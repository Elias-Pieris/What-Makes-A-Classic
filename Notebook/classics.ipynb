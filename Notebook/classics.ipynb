{
 "cells": [
  {
   "cell_type": "code",
   "execution_count": 1,
   "id": "54d51fdc-055a-43f5-9c88-01f2bb8396bb",
   "metadata": {},
   "outputs": [],
   "source": [
    "import string\n",
    "\n",
    "def clean_text(file_path):\n",
    "    \"\"\"\n",
    "    Cleans a Gutenberg text file:\n",
    "    1. Removes paragraphs containing 'ebook'\n",
    "    2. Converts text to lowercase\n",
    "    3. Removes punctuation\n",
    "    Returns cleaned text as a string.\n",
    "    \"\"\"\n",
    "    with open(file_path, \"r\", encoding=\"utf-8\") as f:\n",
    "        lines = f.readlines()\n",
    "    \n",
    "    # Remove paragraphs containing 'ebook'\n",
    "    lines = [line for line in lines if \"ebook\" not in line.lower()]\n",
    "    \n",
    "    # Join lines, lowercase, remove punctuation\n",
    "    text = \"\".join(lines).strip()\n",
    "    text = text.lower()\n",
    "    text = text.translate(str.maketrans(\"\", \"\", string.punctuation))\n",
    "    \n",
    "    return text"
   ]
  },
  {
   "cell_type": "code",
   "execution_count": null,
   "id": "ba7ab4e0-3924-4e26-a1b6-999a6416528c",
   "metadata": {},
   "outputs": [],
   "source": []
  }
 ],
 "metadata": {
  "kernelspec": {
   "display_name": "Python [conda env:base] *",
   "language": "python",
   "name": "conda-base-py"
  },
  "language_info": {
   "codemirror_mode": {
    "name": "ipython",
    "version": 3
   },
   "file_extension": ".py",
   "mimetype": "text/x-python",
   "name": "python",
   "nbconvert_exporter": "python",
   "pygments_lexer": "ipython3",
   "version": "3.13.5"
  }
 },
 "nbformat": 4,
 "nbformat_minor": 5
}
